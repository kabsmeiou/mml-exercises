{
 "cells": [
  {
   "cell_type": "markdown",
   "id": "dcfc14db-5dfb-4bdd-8060-2dde60ed4cff",
   "metadata": {},
   "source": [
    "# Chapter 2"
   ]
  },
  {
   "cell_type": "markdown",
   "id": "a0bab95d-8c09-42e4-a61f-2501e8925974",
   "metadata": {},
   "source": [
    "### 2.1"
   ]
  },
  {
   "cell_type": "markdown",
   "id": "44b4f09b-850c-4469-bb0e-6ab46e485e6c",
   "metadata": {},
   "source": [
    "#### 2.1.a\n",
    "\n",
    "We’ll have to show the Closure, Associativity, Neutral, Inverse, and Commutativity\n",
    "\n",
    "$\\textbf{Closure}$: We have to show that $a\\otimes{b}$ where a, b is from the set $\\mathbb{R} \\setminus \\{-1\\}$ produces an output belonging to the same set with $a\\otimes{b}= ab + a + b$. Suppose we can get $-1 = ab + a + b$ then\n",
    "$ab + a + b + 1 = 0$\n",
    "$= (a + 1)(b + 1) = 0$\n",
    "And this works only when $a = -1$ or $b = -1$. Thus, we cannot get $a\\otimes{b}= -1$ from the set $\\mathbb{R} \\setminus \\{-1\\}$. Consequently, $a\\otimes{b}$ where a, b is from $\\mathbb{R} \\setminus \\{-1\\}$ belongs to the set $\\mathbb{R} \\setminus \\{-1\\}$.\n"
   ]
  },
  {
   "cell_type": "markdown",
   "id": "f22ff157-0d3d-4afe-9555-d7fa4c3e6735",
   "metadata": {},
   "source": [
    "$\\textbf{Associativity}: \\text{For a, b, c} \\in \\mathbb{R} \\setminus \\{-1\\}$, it must hold that\n",
    "\n",
    "$[(ab + a + b) \\cdot c + (ab + a + b) + c = a \\cdot (bc + b + c) + a + (bc + b + c)]$\n",
    "\n",
    "We can easily show this by evaluating both sides.\n",
    "\n",
    "$[abc + ac + bc + ab + a + b + c = abc + ab + ac + a + bc + b + c]$\n",
    "\n",
    "After rearranging:\n",
    "\n",
    "$[abc + ab + ac + bc + a + b + c = abc + ab + ac + bc + a + b + c]$"
   ]
  },
  {
   "cell_type": "markdown",
   "id": "74cfa5f7-0e4a-4c31-8bb3-75e63e20662d",
   "metadata": {},
   "source": [
    "$\\textbf{Neutral Element}: \\text{Simply evaluate } a\\otimes{e} = a$\n",
    "\n",
    "$\n",
    "ae + a + e = a\n",
    "$\n",
    "\n",
    "$\n",
    "ae + e = a - a = ae + e = 0\n",
    "$\n",
    "\n",
    "$\n",
    "e(a + 1) = 0\n",
    "$\n",
    "\n",
    "$\\text{Since } a \\in \\mathbb{R} \\setminus \\{-1\\} \\text{ and } a + 1 \\text{ is always non-zero, } e = 0 \\text{ is the only neutral element due to the multiplication by zero property.}$"
   ]
  },
  {
   "cell_type": "markdown",
   "id": "64c7444d-3037-4956-8452-72598facef39",
   "metadata": {},
   "source": [
    "$\\textbf{Inverse Element:} \\text{ find y such that } x\\otimes{b} = e, \\text{ if we let } e = 0 \\text{ then}$\n",
    "\n",
    "$\\begin{align*}\n",
    "xy + x + y &= 0 \\\\\n",
    "xy + y &= -x \\\\\n",
    "y(x + 1) &= -x \\\\\n",
    "y &= \\frac{-x}{x + 1}\n",
    "\\end{align*}$\n"
   ]
  },
  {
   "cell_type": "markdown",
   "id": "041c85b3-3778-4fe9-86ab-bea3ea91ccdb",
   "metadata": {},
   "source": [
    "$\\textbf{Commutative Property: } \\text{for } ab + a + b = ba + b + a$, in multiplication and addition, this order will not change the value.\\\n",
    "Therefore, it can easily be seen that it is commutative."
   ]
  },
  {
   "cell_type": "markdown",
   "id": "08834857-0340-435f-9334-cc752015f044",
   "metadata": {},
   "source": [
    "#### 2.1.b"
   ]
  },
  {
   "cell_type": "markdown",
   "id": "b9309c23-a268-42e5-8c5e-c31176279eea",
   "metadata": {},
   "source": [
    "$ 3 \\otimes (x^2 + x + x) = 15 $\n",
    "\n",
    "$ 3 \\otimes (x^2 + 2x) = 15 $\n",
    "\n",
    "$ 3 \\cdot (x^2 + 2x) + 3 + (x^2 + 2x) = 15 $\n",
    "\n",
    "$ 3x^2 + 6x + 3 + x^2 + 2x = 15 $\n",
    "\n",
    "$ 4x^2 + 8x + 3 = 15 $"
   ]
  },
  {
   "cell_type": "markdown",
   "id": "379a8ce4-f726-4213-9ad8-6510b100a1fe",
   "metadata": {},
   "source": [
    "$\\text{Using what we have, we can already see that } 4 + 8 + 3 = 15 \\text{ assuming } x = 1.$\n",
    "\n",
    "$\\text{But by evaluating further, we can get}$\n",
    "\n",
    "$4x^2 + 8x + 3 = 15 $\n",
    "\n",
    "$4x^2 + 8x + 3 - 15 = 0 $\n",
    "\n",
    "$4x^2 + 8x - 12 = 0 \\quad \\text{(divide by 4)}$\n",
    "\n",
    "$x^2 + 2x - 3 = 0$\n",
    "\n",
    "$(x + 3)(x - 1) = 0$\n",
    "\n",
    "$\\text{Now, since we can get 0 by having either } (x + 3) = 0 \\text{ or } (x - 1) = 0, \\text{ we can easily get} $\n",
    "\n",
    "$(x + 3) = 0, \\ (x - 1) = 0$\n",
    "\n",
    "$\\text{Finally: } x = -3, \\  x = 1$"
   ]
  },
  {
   "cell_type": "markdown",
   "id": "2be0e4fa-f085-4e2a-b9ad-2ec342cdcd8f",
   "metadata": {},
   "source": [
    "### 2.2"
   ]
  },
  {
   "cell_type": "markdown",
   "id": "5be17369-d501-4b4a-bed6-5fbb54b60de2",
   "metadata": {},
   "source": [
    "#### 2.2.a"
   ]
  },
  {
   "cell_type": "code",
   "execution_count": null,
   "id": "c8efca90-800b-4fef-b427-33f5d9b6d687",
   "metadata": {},
   "outputs": [],
   "source": []
  }
 ],
 "metadata": {
  "kernelspec": {
   "display_name": "Python 3 (ipykernel)",
   "language": "python",
   "name": "python3"
  },
  "language_info": {
   "codemirror_mode": {
    "name": "ipython",
    "version": 3
   },
   "file_extension": ".py",
   "mimetype": "text/x-python",
   "name": "python",
   "nbconvert_exporter": "python",
   "pygments_lexer": "ipython3",
   "version": "3.12.1"
  }
 },
 "nbformat": 4,
 "nbformat_minor": 5
}
